{
  "nbformat": 4,
  "nbformat_minor": 0,
  "metadata": {
    "colab": {
      "name": "conditional statement.ipynb",
      "provenance": []
    },
    "kernelspec": {
      "name": "python3",
      "display_name": "Python 3"
    },
    "language_info": {
      "name": "python"
    }
  },
  "cells": [
    {
      "cell_type": "code",
      "source": [
        "num=int(input(\"enter a num: \"))\n",
        "if num>1:\n",
        "  for i in range(2,num):\n",
        "    if(num%i)==0:\n",
        "      print(num,\"is not a prime no\")\n",
        "      break\n",
        "  else:\n",
        "    print(num,\"is a prime no\")    "
      ],
      "metadata": {
        "colab": {
          "base_uri": "https://localhost:8080/"
        },
        "id": "N-pcaTh0P1J0",
        "outputId": "0a7514f1-6d45-4af8-acb0-e71eb43cf5c2"
      },
      "execution_count": 8,
      "outputs": [
        {
          "output_type": "stream",
          "name": "stdout",
          "text": [
            "enter a num: 7\n",
            "7 is a prime no\n"
          ]
        }
      ]
    },
    {
      "cell_type": "code",
      "source": [
        "num=int(input(\"enter a no \"))\n",
        "if num%3==0:\n",
        "  print(\"No is divisible by 3 \")\n",
        "else:\n",
        "  print(\"No is not divisible by 3 \")  "
      ],
      "metadata": {
        "colab": {
          "base_uri": "https://localhost:8080/"
        },
        "id": "XScdvaSHQg7t",
        "outputId": "df1f34fe-406b-4e8a-a757-3034a6675f53"
      },
      "execution_count": 14,
      "outputs": [
        {
          "output_type": "stream",
          "name": "stdout",
          "text": [
            "enter a no 8\n",
            "No is not divisible by 3 \n"
          ]
        }
      ]
    }
  ]
}