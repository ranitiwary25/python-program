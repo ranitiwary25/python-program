{
  "nbformat": 4,
  "nbformat_minor": 0,
  "metadata": {
    "colab": {
      "name": "basic.ipynb",
      "provenance": [],
      "authorship_tag": "ABX9TyOat7Pne51VmmGhKhFTUp/h",
      "include_colab_link": true
    },
    "kernelspec": {
      "name": "python3",
      "display_name": "Python 3"
    },
    "language_info": {
      "name": "python"
    }
  },
  "cells": [
    {
      "cell_type": "markdown",
      "metadata": {
        "id": "view-in-github",
        "colab_type": "text"
      },
      "source": [
        "<a href=\"https://colab.research.google.com/github/ranitiwary25/python-program/blob/main/basic.ipynb\" target=\"_parent\"><img src=\"https://colab.research.google.com/assets/colab-badge.svg\" alt=\"Open In Colab\"/></a>"
      ]
    },
    {
      "cell_type": "code",
      "execution_count": null,
      "metadata": {
        "colab": {
          "base_uri": "https://localhost:8080/"
        },
        "id": "UkPfDm4E2BFw",
        "outputId": "0b08c523-8be6-48db-db71-5f8d267d05a2"
      },
      "outputs": [
        {
          "output_type": "stream",
          "name": "stdout",
          "text": [
            "Enter the string: naman\n",
            "Given string naman is a palindrome\n"
          ]
        }
      ],
      "source": [
        "strque=[]\n",
        "def insertRear(que,ch):\n",
        "  que.append(ch)\n",
        "def deletionFront(que):\n",
        "  if que !=[]:\n",
        "    return que.pop(0)\n",
        "def deletionRear(que):\n",
        "  if que !=[]:\n",
        "    return que.pop()\n",
        "def palindromeCheck(string):\n",
        "  palindrome=True\n",
        "  for ch in string:\n",
        "    insertRear(strque,ch)\n",
        "  while len(strque)>1 and palindrome:\n",
        "    first= deletionFront(strque)\n",
        "    last=deletionRear(strque)\n",
        "    if first !=last:\n",
        "      palindrome=False\n",
        "    return palindrome\n",
        "string=input(\"Enter the string: \")\n",
        "if palindromeCheck(string):\n",
        "  print(\"Given string\", string, \"is a palindrome\")\n",
        "else:\n",
        "  print(\"Given string\", string, \"is not a palindrome\")                    "
      ]
    },
    {
      "cell_type": "code",
      "source": [
        "def number(n):\n",
        "  x =[int(a) for a in str(n)]\n",
        "  b=n/x[1]\n",
        "  return b\n",
        "\n",
        "p= int(input(\"enter the number: \"))\n",
        "result=number(p)\n",
        "print(result)  "
      ],
      "metadata": {
        "colab": {
          "base_uri": "https://localhost:8080/"
        },
        "id": "nwbM4MthAjVu",
        "outputId": "7efdfe9d-51f0-4d1d-99c1-79df4dbf007b"
      },
      "execution_count": null,
      "outputs": [
        {
          "output_type": "stream",
          "name": "stdout",
          "text": [
            "enter the number: 13456789\n",
            "4485596.333333333\n"
          ]
        }
      ]
    }
  ]
}