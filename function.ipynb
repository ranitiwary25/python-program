{
  "nbformat": 4,
  "nbformat_minor": 0,
  "metadata": {
    "colab": {
      "name": "function.ipynb",
      "provenance": [],
      "authorship_tag": "ABX9TyOpXsjTM6qJHoKuresF0nYZ",
      "include_colab_link": true
    },
    "kernelspec": {
      "name": "python3",
      "display_name": "Python 3"
    },
    "language_info": {
      "name": "python"
    }
  },
  "cells": [
    {
      "cell_type": "markdown",
      "metadata": {
        "id": "view-in-github",
        "colab_type": "text"
      },
      "source": [
        "<a href=\"https://colab.research.google.com/github/ranitiwary25/python-program/blob/main/function.ipynb\" target=\"_parent\"><img src=\"https://colab.research.google.com/assets/colab-badge.svg\" alt=\"Open In Colab\"/></a>"
      ]
    },
    {
      "cell_type": "code",
      "execution_count": 1,
      "metadata": {
        "colab": {
          "base_uri": "https://localhost:8080/"
        },
        "id": "JdeIWWncGQKV",
        "outputId": "f0733281-ad54-43af-d995-60d14cec2d82"
      },
      "outputs": [
        {
          "output_type": "stream",
          "name": "stdout",
          "text": [
            "enter first number : 25\n",
            "enter second number : 52\n",
            "GCD of25 and 52=1\n",
            "LCM of 25 and 52=1300.0\n"
          ]
        }
      ],
      "source": [
        "n1=int(input(\"enter first number : \"))\n",
        "n2=int(input(\"enter second number : \"))\n",
        "x=n1\n",
        "y=n2\n",
        "while(n2!=0):\n",
        "  t=n2\n",
        "  n2=n1%n2\n",
        "  n1=t\n",
        "gcd=n1\n",
        "print(\"GCD of{0} and {1}={2}\".format(x,y,gcd))\n",
        "lcm=(x*y)/gcd\n",
        "print(\"LCM of {0} and {1}={2}\".format(x,y,lcm))  "
      ]
    }
  ]
}