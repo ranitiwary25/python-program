{
  "nbformat": 4,
  "nbformat_minor": 0,
  "metadata": {
    "colab": {
      "name": "Loops.ipynb",
      "provenance": [],
      "authorship_tag": "ABX9TyM8bOC/5YmNcNs1aEfLeymm",
      "include_colab_link": true
    },
    "kernelspec": {
      "name": "python3",
      "display_name": "Python 3"
    },
    "language_info": {
      "name": "python"
    }
  },
  "cells": [
    {
      "cell_type": "markdown",
      "metadata": {
        "id": "view-in-github",
        "colab_type": "text"
      },
      "source": [
        "<a href=\"https://colab.research.google.com/github/ranitiwary25/python-program/blob/main/Loops.ipynb\" target=\"_parent\"><img src=\"https://colab.research.google.com/assets/colab-badge.svg\" alt=\"Open In Colab\"/></a>"
      ]
    },
    {
      "cell_type": "code",
      "execution_count": 1,
      "metadata": {
        "colab": {
          "base_uri": "https://localhost:8080/"
        },
        "id": "u2LXZfL1BpZu",
        "outputId": "aa2fda8c-f5e0-4906-97af-38b5ce3fafa0"
      },
      "outputs": [
        {
          "output_type": "stream",
          "name": "stdout",
          "text": [
            "enter a password: ranitiwary\n",
            "use 1 upper case letter \n",
            "enter a password: Ranitiwary\n",
            "use 1 digit\n",
            "enter a password: Ranitiwary2\n",
            "use special char from x\n",
            "enter a password: Ranitiwary2\n",
            "use special char from x\n",
            "enter a password: Ranitiwary@2\n",
            "password accepted\n"
          ]
        }
      ],
      "source": [
        "x='''@#$'''\n",
        "p=0\n",
        "while p<=3:\n",
        "  r=input(\"enter a password: \")\n",
        "  if(len(r)<6 or len(r)>15):\n",
        "    print(\"password contain 6 to 15 char \")\n",
        "  else:\n",
        "    True\n",
        "  if r.isupper():\n",
        "    print(\"use 1 lower case letter \")\n",
        "  elif r.islower():\n",
        "      print(\"use 1 upper case letter \")\n",
        "  elif r.isdigit():\n",
        "    print(\"use 1 alphabet\")\n",
        "  elif r.isalpha():\n",
        "    print(\"use 1 digit\")\n",
        "  elif not any (c in x for c in r):\n",
        "    print (\"use special char from x\")\n",
        "  else:\n",
        "    print(\"password accepted\")\n",
        "    break\n",
        "  p+1  \n"
      ]
    }
  ]
}